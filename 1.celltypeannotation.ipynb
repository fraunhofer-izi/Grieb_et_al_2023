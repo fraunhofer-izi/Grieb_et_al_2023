{
 "cells": [
  {
   "cell_type": "code",
   "execution_count": 2,
   "id": "d3c47f06-cb2c-4080-b256-608a5e774611",
   "metadata": {},
   "outputs": [
    {
     "name": "stderr",
     "output_type": "stream",
     "text": [
      "Attaching SeuratObject\n",
      "\n",
      "── \u001b[1mAttaching packages\u001b[22m ─────────────────────────────────────── tidyverse 1.3.2 ──\n",
      "\u001b[32m✔\u001b[39m \u001b[34mggplot2\u001b[39m 3.4.0      \u001b[32m✔\u001b[39m \u001b[34mpurrr  \u001b[39m 0.3.5 \n",
      "\u001b[32m✔\u001b[39m \u001b[34mtibble \u001b[39m 3.1.8      \u001b[32m✔\u001b[39m \u001b[34mdplyr  \u001b[39m 1.0.10\n",
      "\u001b[32m✔\u001b[39m \u001b[34mtidyr  \u001b[39m 1.2.1      \u001b[32m✔\u001b[39m \u001b[34mstringr\u001b[39m 1.4.1 \n",
      "\u001b[32m✔\u001b[39m \u001b[34mreadr  \u001b[39m 2.1.3      \u001b[32m✔\u001b[39m \u001b[34mforcats\u001b[39m 0.5.2 \n",
      "── \u001b[1mConflicts\u001b[22m ────────────────────────────────────────── tidyverse_conflicts() ──\n",
      "\u001b[31m✖\u001b[39m \u001b[34mdplyr\u001b[39m::\u001b[32mfilter()\u001b[39m masks \u001b[34mstats\u001b[39m::filter()\n",
      "\u001b[31m✖\u001b[39m \u001b[34mdplyr\u001b[39m::\u001b[32mlag()\u001b[39m    masks \u001b[34mstats\u001b[39m::lag()\n"
     ]
    }
   ],
   "source": [
    "library(Seurat)\n",
    "library(tidyverse)\n",
    "library(xlsx)"
   ]
  },
  {
   "cell_type": "code",
   "execution_count": null,
   "id": "4d5fe8ac-c890-431a-8ae8-efa190c46169",
   "metadata": {},
   "outputs": [],
   "source": [
    "seuratobj=readRDS('MXMERZ002A/LargeData/seurat_obj.PostQC.rds')"
   ]
  },
  {
   "cell_type": "code",
   "execution_count": 3,
   "id": "d461b957-a908-4283-b8df-adc9297856a1",
   "metadata": {
    "tags": []
   },
   "outputs": [],
   "source": [
    "# Prepare Metadata from excel\n",
    "metadata_excel=read.xlsx('/mnt/MXMERZ002A/LargeData/2022-09-19_MXMERZ002A_Library_Info.xlsx', sheetName='metadata')\n",
    "\n",
    "metadata=metadata_excel %>% mutate(Age=round(as.numeric(difftime(as.Date('2022/10/08'),date.of.birth, units = 'weeks')/52.25), 1)) %>%\n",
    "mutate(name=as.integer(gsub(\"^Patient 0+\", \"\", name))) %>% rename('patient'=name, 'days.since.apharesis'=days.since.collection) %>% \n",
    "select(patient, Age,sex, collection.day, days.since.apharesis, days.since.CAR.infusion, source, remission.after.CAR, SAMPLE_NAME, barcode) #note collection.day gets messed up when added to seuratmetadata since it's a Date object"
   ]
  },
  {
   "cell_type": "code",
   "execution_count": 6,
   "id": "7013b2d1-9d66-4ee0-865a-c11e2545d018",
   "metadata": {},
   "outputs": [],
   "source": [
    "seuratobj$orig.ident2=seuratobj$orig.ident\n",
    "seuratobj$orig.ident=str_extract(seuratobj$orig.ident2, '^MXMERZ002A_\\\\d{2}')"
   ]
  },
  {
   "cell_type": "code",
   "execution_count": 8,
   "id": "c2d00715-9c2f-4e2e-a861-a7d0e412ba93",
   "metadata": {},
   "outputs": [],
   "source": [
    "# Left join metadata from excel\n",
    "seuratobj@meta.data=seuratobj@meta.data %>% rownames_to_column('barcodes') %>% \n",
    "left_join(metadata, by=c('orig.ident'='SAMPLE_NAME')) %>% \n",
    "column_to_rownames('barcodes')"
   ]
  },
  {
   "cell_type": "code",
   "execution_count": null,
   "id": "0ea79883-e39c-4ee5-8c03-23acb975e9fb",
   "metadata": {},
   "outputs": [],
   "source": [
    "seuratobj$wetlabid=seuratobj$orig.ident\n",
    "seuratobj@meta.data=seuratobj@meta.data %>%unite(orig.ident, patient, days.since.apharesis, days.since.CAR.infusion, source, remove=F)\n",
    "seuratobj$orig.ident=paste0('P',seuratobj$orig.ident)\n",
    "seuratobj$orig.ident=factor(seuratobj$orig.ident, levels=str_sort(unique(seuratobj$orig.ident), numeric=T))"
   ]
  },
  {
   "cell_type": "code",
   "execution_count": 14,
   "id": "ebd8680f-1d32-44d8-8f32-d560ca328450",
   "metadata": {},
   "outputs": [],
   "source": [
    "# WNN map\n",
    "#PBMC\n",
    "seuratobj_patient_list=SplitObject(seuratobj, split.by = \"orig.ident\")"
   ]
  },
  {
   "cell_type": "code",
   "execution_count": 15,
   "id": "fd891065-bb1c-4a28-9c8c-def7e75c5bc8",
   "metadata": {
    "tags": []
   },
   "outputs": [],
   "source": [
    "wnnmap=function(pbmc3k){\n",
    "pbmc3k <- SCTransform(pbmc3k, verbose = FALSE)\n",
    "anchors <- FindTransferAnchors(\n",
    "  reference = pbmc_reference,\n",
    "  query = pbmc3k,\n",
    "  normalization.method = \"SCT\",\n",
    "  reference.reduction = \"spca\",\n",
    "  dims = 1:50\n",
    ")\n",
    "\n",
    "pbmc3k <- TransferData(\n",
    "  anchorset = anchors, \n",
    "  reference = pbmc_reference,\n",
    "  query = pbmc3k,\n",
    "  refdata = list(WNN_PBMC = \"celltype.l2\")\n",
    ")}"
   ]
  },
  {
   "cell_type": "code",
   "execution_count": null,
   "id": "0ac31ddd-83ee-45cd-9618-3d1619e57f7b",
   "metadata": {},
   "outputs": [],
   "source": [
    "pbmc_reference <- LoadH5Seurat(\"/mnt/cnv/LargeData/pbmc_multimodal.h5seurat\")"
   ]
  },
  {
   "cell_type": "code",
   "execution_count": 27,
   "id": "abe2f5f2-0fb2-4152-bfb6-09a358418989",
   "metadata": {},
   "outputs": [],
   "source": [
    "cellsources=lapply(seuratobj_patient_list, function(x) x$source[1])\n",
    "pbsamples=seuratobj_patient_list[names(cellsources)[cellsources=='PB']]"
   ]
  },
  {
   "cell_type": "code",
   "execution_count": null,
   "id": "583b8c49-eeb1-4e5a-8644-c2edc6cc5bc4",
   "metadata": {},
   "outputs": [],
   "source": [
    "pbsamples=lapply(pbsamples, wnnmap)"
   ]
  },
  {
   "cell_type": "code",
   "execution_count": 30,
   "id": "f109bee2-16b9-4446-b48d-d23b80c1891f",
   "metadata": {},
   "outputs": [],
   "source": [
    "saveRDS(pbsamples,'/mnt/MXMERZ002A/LargeData/pbmc_annotated_list.rds', compress=F )"
   ]
  },
  {
   "cell_type": "code",
   "execution_count": 31,
   "id": "96fc0d57-b69b-4858-b0f2-558d868bc8ec",
   "metadata": {},
   "outputs": [],
   "source": [
    "bmsamples=seuratobj_patient_list[names(cellsources)[cellsources=='BM']]"
   ]
  },
  {
   "cell_type": "code",
   "execution_count": null,
   "id": "1c7aba82-bdae-43b2-ad0a-924eca53d2d3",
   "metadata": {},
   "outputs": [],
   "source": [
    "library(SeuratData)\n",
    "# WNN map\n",
    "# BM"
   ]
  },
  {
   "cell_type": "code",
   "execution_count": 33,
   "id": "7aed3853-21e8-4b44-8d33-ebab27405b24",
   "metadata": {},
   "outputs": [],
   "source": [
    "bm <- LoadData(ds = \"bmcite\")"
   ]
  },
  {
   "cell_type": "code",
   "execution_count": 34,
   "id": "a6d7f7f3-5a9e-4442-a356-1366fbd1d0f1",
   "metadata": {},
   "outputs": [
    {
     "name": "stderr",
     "output_type": "stream",
     "text": [
      "Centering and scaling data matrix\n",
      "\n",
      "Computing sPCA transformation\n",
      "\n"
     ]
    }
   ],
   "source": [
    "bm <- ScaleData(bm, assay = 'RNA')\n",
    "bm <- RunSPCA(bm, assay = 'RNA', graph = 'wsnn')"
   ]
  },
  {
   "cell_type": "code",
   "execution_count": 35,
   "id": "b10eaaa2-b9a0-4ad7-9b70-34968f88b8bb",
   "metadata": {},
   "outputs": [
    {
     "name": "stderr",
     "output_type": "stream",
     "text": [
      "Computing nearest neighbors\n",
      "\n",
      "Only one graph name supplied, storing nearest-neighbor graph only\n",
      "\n"
     ]
    }
   ],
   "source": [
    "bm <- FindNeighbors(\n",
    "  object = bm,\n",
    "  reduction = \"spca\",\n",
    "  dims = 1:50,\n",
    "  graph.name = \"spca.annoy.neighbors\", \n",
    "  k.param = 50,\n",
    "  cache.index = TRUE,\n",
    "  return.neighbor = TRUE,\n",
    "  l2.norm = TRUE\n",
    ")"
   ]
  },
  {
   "cell_type": "code",
   "execution_count": 36,
   "id": "668d5a5b-dd2c-493e-b0cf-6552f8de1949",
   "metadata": {},
   "outputs": [],
   "source": [
    "changeassaydata=function(x) {DefaultAssay(x)='RNA' \n",
    "                            return(x)}\n",
    "bmsamples=lapply(bmsamples, changeassaydata)"
   ]
  },
  {
   "cell_type": "code",
   "execution_count": null,
   "id": "14b52f25-c86a-40b2-914d-4d11a1c20c53",
   "metadata": {},
   "outputs": [],
   "source": [
    "anchors <- list()\n",
    "for (i in 1:length(bmsamples)) {\n",
    "  anchors[[i]] <- FindTransferAnchors(\n",
    "    reference = bm,\n",
    "    query = bmsamples[[i]],\n",
    "    k.filter = NA,\n",
    "    reference.reduction = \"spca\", \n",
    "    reference.neighbors = \"spca.annoy.neighbors\", \n",
    "    dims = 1:50\n",
    "  )\n",
    "}"
   ]
  },
  {
   "cell_type": "code",
   "execution_count": null,
   "id": "289be1ef-129b-4693-9a94-40d5bf331c60",
   "metadata": {},
   "outputs": [],
   "source": [
    "for (i in 1:length(bmsamples)) {\n",
    "    bmsamples[[i]] <- TransferData( anchorset =  anchors[[i]],\n",
    "                                   reference = bm,\n",
    "                                   query = bmsamples[[i]],\n",
    "                                   refdata = list(WNN_BM = \"celltype.l2\"))\n",
    "}"
   ]
  },
  {
   "cell_type": "code",
   "execution_count": null,
   "id": "06d7048c-eab4-42c0-940b-8e46c466089e",
   "metadata": {},
   "outputs": [],
   "source": [
    "saveRDS(bmsamples,'/mnt/MXMERZ002A/LargeData/bm_annotated_list.rds', compress=F )"
   ]
  },
  {
   "cell_type": "code",
   "execution_count": 2,
   "id": "59433b2d-b413-4399-9c2f-43e9bf8af16f",
   "metadata": {},
   "outputs": [],
   "source": [
    "pbsamples=readRDS('/mnt/MXMERZ002A/LargeData/pbmc_annotated_list.rds')\n",
    "bmsamples=readRDS('/mnt/MXMERZ002A/LargeData/bm_annotated_list.rds')"
   ]
  },
  {
   "cell_type": "code",
   "execution_count": 3,
   "id": "bbb8c0f0-1c1f-42c3-87b0-5e77695c9a4b",
   "metadata": {},
   "outputs": [],
   "source": [
    "annotated_list=c(pbsamples, bmsamples)"
   ]
  },
  {
   "cell_type": "code",
   "execution_count": 4,
   "id": "c29682c6-9384-42a1-83a7-bb7512dcaf79",
   "metadata": {},
   "outputs": [
    {
     "name": "stderr",
     "output_type": "stream",
     "text": [
      "Warning message:\n",
      "“Attempting to merge an SCTAssay with another Assay type \n",
      "Converting all to standard Assay objects.”\n"
     ]
    }
   ],
   "source": [
    "seuratobj=merge(annotated_list[[1]], annotated_list[2:length(annotated_list)])"
   ]
  },
  {
   "cell_type": "code",
   "execution_count": 5,
   "id": "f5cdde93-4c23-4a6d-b9d8-fe2c3f441ee7",
   "metadata": {},
   "outputs": [],
   "source": [
    "seuratobj@meta.data=seuratobj@meta.data %>% mutate(WNN_l2=ifelse(source=='PB', predicted.WNN_PBMC, predicted.WNN_BM))"
   ]
  },
  {
   "cell_type": "code",
   "execution_count": 5,
   "id": "32edfe96-f9d5-42ec-a7a7-57a72fc61ad2",
   "metadata": {},
   "outputs": [],
   "source": [
    "seuratobj@meta.data=seuratobj@meta.data %>% mutate(WNN_l2=ifelse(WNN_l2=='Plasmablast','Plasma cells', WNN_l2)) #Change plasmablast to plasma cell for bmcite"
   ]
  },
  {
   "cell_type": "code",
   "execution_count": 8,
   "id": "a434cd3c-c39d-4230-830b-30c02e136260",
   "metadata": {},
   "outputs": [],
   "source": [
    "# Add cell annotation\n",
    "get_short_name <- function(t){\n",
    "    #t <- gsub('Prog_RBC','Prog_RBC',t)\n",
    "    t <- ifelse(grepl('B ', t), 'B cells', t)\n",
    "    t <- ifelse(grepl('CD4 ', t), 'CD4 T cells', t)\n",
    "    t <- ifelse(grepl('CD8 ', t), 'CD8 T cells', t)\n",
    "    t <- ifelse(grepl('cDC', t), 'cDC', t)\n",
    "    t <- ifelse(grepl('NK', t), 'NK', t)\n",
    "    t = ifelse(grepl('MAIT|ILC|HSPC|ASDC|Doublet|Platelet|Eryth', t), 'Others', t)\n",
    "    t = ifelse(grepl('CD14 |CD16 ', t), 'Monocytes', t)\n",
    "    t = ifelse(grepl('CD14 |CD16 ', t), 'Monocytes', t)\n",
    "    t <- ifelse(grepl('Plasmablast', t), 'Plasma cells', t)\n",
    "    return(t)\n",
    "}\n",
    "\n",
    "get_short_name3 <- function(t){ #For BMCite reference\n",
    "    #t <- gsub('Prog_RBC','Prog_RBC',t)\n",
    "    t <- gsub('Prog_Mk|HSC|LMPP','HSPC',t)\n",
    "    #t <- gsub('GMP','GMP',t)\n",
    "    t <- gsub('CD14 Mono','Monocytes',t)\n",
    "    t <- gsub('CD16 Mono','Monocytes',t)\n",
    "    t <- gsub('cDC2|cDC1','cDC',t)\n",
    "    t <- gsub('Prog_B 1|Prog_B 2','Prog_B',t) # pre-B\n",
    "    t <- gsub('Memory B|Naive B','B cells',t) \n",
    "    t <- gsub('Plasma Cells|Plasmablast','Plasma cells',t)\n",
    "    t <- gsub('CD4 Naive|CD4 Memory','CD4 T cells',t)\n",
    "    t <- gsub('CD8 Effector_1|CD8 Effector_2|CD8 Memory_1|CD8 Memory_2|CD8 Naive','CD8 T cells',t)\n",
    "    t <- gsub('Treg','Treg',t)\n",
    "    t <- gsub('NK|CD56 bright NK','NK',t)\n",
    "    return(t)\n",
    "}\n",
    "\n",
    "harmonise_name2 <- function(t){\n",
    "    #t <- gsub('Prog_RBC','Prog_RBC',t)\n",
    "    t <- ifelse(grepl('cDC', t), 'DC', t)\n",
    "    t <- ifelse(grepl('Dendritic cells', t), 'DC', t)\n",
    "    t <- ifelse(grepl('Natural killer cells', t), 'NK', t)\n",
    "    t <- ifelse(grepl('Plasmacytoid dendritic cells', t), 'pDC', t)\n",
    "    t <- ifelse(grepl('Plasmablast', t), 'Plasma cells', t)\n",
    "    return(t)\n",
    "}"
   ]
  },
  {
   "cell_type": "code",
   "execution_count": 20,
   "id": "713e678a-033a-4ce6-aa1b-f19501ac37f3",
   "metadata": {},
   "outputs": [],
   "source": [
    "WNN_agg_l2=ifelse(seuratobj$source=='PB',seuratobj$predicted.WNN_PBMC, seuratobj$predicted.WNN_BM)\n",
    "seuratobj$WNN_agg_l2=WNN_agg_l2"
   ]
  },
  {
   "cell_type": "code",
   "execution_count": 19,
   "id": "3c682dff-cf99-4703-a224-25d97d7bda61",
   "metadata": {},
   "outputs": [],
   "source": [
    "pb_annot=sapply(seuratobj$predicted.WNN_PBMC, get_short_name)\n",
    "bm_annot=sapply(seuratobj$predicted.WNN_BM, get_short_name3)"
   ]
  },
  {
   "cell_type": "code",
   "execution_count": 21,
   "id": "c5687f6d-42e2-4ce3-8e5c-021383c472b8",
   "metadata": {},
   "outputs": [],
   "source": [
    "WNN_agg=ifelse(seuratobj$source=='PB',pb_annot, bm_annot)\n",
    "seuratobj$WNN_agg=WNN_agg"
   ]
  },
  {
   "cell_type": "code",
   "execution_count": 25,
   "id": "97046388-619f-4053-89df-c4d1417c19c6",
   "metadata": {},
   "outputs": [],
   "source": [
    "DefaultAssay(seuratobj)='RNA'\n",
    "seuratobj=NormalizeData(seuratobj)"
   ]
  },
  {
   "cell_type": "code",
   "execution_count": 6,
   "id": "0d69714f-f88f-482c-a6fc-201c13059564",
   "metadata": {},
   "outputs": [],
   "source": [
    "saveRDS(seuratobj, '/mnt/MXMERZ002A/LargeData/seuratobj_1.rds', compress = F)"
   ]
  }
 ],
 "metadata": {
  "kernelspec": {
   "display_name": "R",
   "language": "R",
   "name": "ir"
  },
  "language_info": {
   "codemirror_mode": "r",
   "file_extension": ".r",
   "mimetype": "text/x-r-source",
   "name": "R",
   "pygments_lexer": "r",
   "version": "4.2.2"
  }
 },
 "nbformat": 4,
 "nbformat_minor": 5
}
