{
 "cells": [
  {
   "cell_type": "code",
   "execution_count": null,
   "id": "0127343c-9dba-4823-99b7-469b1efd1981",
   "metadata": {},
   "outputs": [],
   "source": [
    "import importlib\n",
    "import warnings\n",
    "warnings.filterwarnings(\"ignore\")\n",
    "\n",
    "import pandas as pd\n",
    "import pickle as pkl\n",
    "import matplotlib.pyplot as plt\n",
    "\n",
    "from sccoda.util import comp_ana as mod\n",
    "from sccoda.util import cell_composition_data as dat\n",
    "from sccoda.util import data_visualization as viz\n",
    "\n",
    "import sccoda.datasets as scd"
   ]
  },
  {
   "cell_type": "code",
   "execution_count": 18,
   "id": "6317792d-3097-4706-9728-06d8c3641bef",
   "metadata": {},
   "outputs": [],
   "source": [
    "# Apharesis\n",
    "cell_counts = pd.read_csv('cellcount_apharesis.csv')\n",
    "data_all = dat.from_pandas(cell_counts, covariate_columns=[\"orig.ident\", \"response\", \"source\"])\n",
    "model_all = mod.CompositionalAnalysis(data_all, formula=\"response\", reference_cell_type=\"automatic\")\n",
    "sim_results_apharesis = model_all.sample_hmc()"
   ]
  },
  {
   "cell_type": "code",
   "execution_count": 19,
   "id": "3beaaec0-800c-43bc-93e6-a94b2d865a36",
   "metadata": {},
   "outputs": [],
   "source": [
    "sim_results_apharesis.set_fdr(est_fdr=0.05)\n",
    "sim_results_apharesis.credible_effects().to_csv('../apharesis_credible.csv')"
   ]
  },
  {
   "cell_type": "code",
   "execution_count": 29,
   "id": "6dd2aa57-6001-4216-acd0-a3a32f3eca15",
   "metadata": {
    "tags": []
   },
   "outputs": [],
   "source": [
    "# Post infusion PBMC\n",
    "cell_counts_PI_pbmc=pd.read_csv('cellcountnocar_postinfusion_pbmc.csv')"
   ]
  },
  {
   "cell_type": "code",
   "execution_count": 37,
   "id": "927ec8fa-8030-43ff-a5a1-8619eec63b1e",
   "metadata": {
    "tags": []
   },
   "outputs": [
    {
     "name": "stdout",
     "output_type": "stream",
     "text": [
      "Automatic reference selection! Reference cell type set to CD4 Proliferating\n",
      "Zero counts encountered in data! Added a pseudocount of 0.5.\n"
     ]
    },
    {
     "name": "stderr",
     "output_type": "stream",
     "text": [
      "100%|██████████| 20000/20000 [02:43<00:00, 122.32it/s]\n"
     ]
    },
    {
     "name": "stdout",
     "output_type": "stream",
     "text": [
      "WARNING:tensorflow:5 out of the last 5 calls to <function CompositionalModel.sampling.<locals>.sample_mcmc at 0x7f7a5c34dca0> triggered tf.function retracing. Tracing is expensive and the excessive number of tracings could be due to (1) creating @tf.function repeatedly in a loop, (2) passing tensors with different shapes, (3) passing Python objects instead of tensors. For (1), please define your @tf.function outside of the loop. For (2), @tf.function has reduce_retracing=True option that can avoid unnecessary retracing. For (3), please refer to https://www.tensorflow.org/guide/function#controlling_retracing and https://www.tensorflow.org/api_docs/python/tf/function for  more details.\n",
      "MCMC sampling finished. (206.850 sec)\n",
      "Acceptance rate: 62.0%\n"
     ]
    }
   ],
   "source": [
    "data_PI_pbmc = dat.from_pandas(cell_counts_PI_pbmc, covariate_columns=[\"orig.ident\", \"response\", \"source\"])\n",
    "model_PI_pbmc = mod.CompositionalAnalysis(data_PI_pbmc, formula=\"response\", reference_cell_type=\"automatic\")\n",
    "sim_results_PI_pbmc = model_PI_pbmc.sample_hmc()"
   ]
  },
  {
   "cell_type": "code",
   "execution_count": 40,
   "id": "626c6af9-9bdb-4537-bd01-cfec59cf7f7b",
   "metadata": {},
   "outputs": [],
   "source": [
    "sim_results_PI_pbmc.set_fdr(est_fdr=0.05) \n",
    "sim_results_PI_pbmc.credible_effects().to_csv('../postinfusionpbmcnocar_credible.csv')"
   ]
  },
  {
   "cell_type": "code",
   "execution_count": 41,
   "id": "c3a97a79-4ec3-44fa-9a55-b43f0c98f2d4",
   "metadata": {},
   "outputs": [
    {
     "name": "stdout",
     "output_type": "stream",
     "text": [
      "Automatic reference selection! Reference cell type set to HSC\n",
      "Zero counts encountered in data! Added a pseudocount of 0.5.\n"
     ]
    },
    {
     "name": "stderr",
     "output_type": "stream",
     "text": [
      "100%|██████████| 20000/20000 [01:59<00:00, 167.56it/s]\n"
     ]
    },
    {
     "name": "stdout",
     "output_type": "stream",
     "text": [
      "MCMC sampling finished. (169.420 sec)\n",
      "Acceptance rate: 50.3%\n"
     ]
    }
   ],
   "source": [
    "#Post infusion BM\n",
    "cell_counts_PI_bm=pd.read_csv('cellcountnocar_postinfusion_bm.csv')\n",
    "data_PI_bm = dat.from_pandas(cell_counts_PI_bm, covariate_columns=[\"orig.ident\", \"response\", \"source\"])\n",
    "model_PI_bm = mod.CompositionalAnalysis(data_PI_bm, formula=\"response\", reference_cell_type=\"automatic\")\n",
    "sim_results_PI_bm = model_PI_bm.sample_hmc()"
   ]
  },
  {
   "cell_type": "code",
   "execution_count": 88,
   "id": "a469576e-8889-4498-b286-fb5d3239dcc0",
   "metadata": {},
   "outputs": [],
   "source": [
    "sim_results_PI_bm.set_fdr(est_fdr=0.05)\n",
    "sim_results_PI_bm.credible_effects().to_csv('../postinfusionbmmcnocar_credible.csv')"
   ]
  }
 ],
 "metadata": {
  "kernelspec": {
   "display_name": "Python 3 (ipykernel)",
   "language": "python",
   "name": "python3"
  },
  "language_info": {
   "codemirror_mode": {
    "name": "ipython",
    "version": 3
   },
   "file_extension": ".py",
   "mimetype": "text/x-python",
   "name": "python",
   "nbconvert_exporter": "python",
   "pygments_lexer": "ipython3",
   "version": "3.9.13"
  }
 },
 "nbformat": 4,
 "nbformat_minor": 5
}
